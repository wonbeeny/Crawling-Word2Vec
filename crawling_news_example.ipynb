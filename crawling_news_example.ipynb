{
 "cells": [
  {
   "cell_type": "code",
   "execution_count": 1,
   "metadata": {
    "scrolled": true
   },
   "outputs": [
    {
     "name": "stdout",
     "output_type": "stream",
     "text": [
      "{'start_year': 2017, 'start_month': 1, 'end_year': 2018, 'end_month': 4}\n",
      "정치 PID: 17385\n",
      "IT과학 PID: 17388\n",
      "economy PID: 17393\n",
      "IT과학 Urls are generated\n",
      "The crawler starts\n",
      "정치 Urls are generated\n",
      "The crawler starts\n",
      "economy Urls are generated\n",
      "The crawler starts\n"
     ]
    },
    {
     "name": "stderr",
     "output_type": "stream",
     "text": [
      "Process Process-2:\n",
      "Traceback (most recent call last):\n",
      "  File \"/opt/conda/lib/python3.7/site-packages/urllib3/connection.py\", line 160, in _new_conn\n",
      "    (self._dns_host, self.port), self.timeout, **extra_kw\n",
      "  File \"/opt/conda/lib/python3.7/site-packages/urllib3/util/connection.py\", line 61, in create_connection\n",
      "    for res in socket.getaddrinfo(host, port, family, socket.SOCK_STREAM):\n",
      "  File \"/opt/conda/lib/python3.7/socket.py\", line 752, in getaddrinfo\n",
      "    for res in _socket.getaddrinfo(host, port, family, type, proto, flags):\n",
      "socket.gaierror: [Errno -2] Name or service not known\n",
      "\n",
      "During handling of the above exception, another exception occurred:\n",
      "\n",
      "Traceback (most recent call last):\n",
      "  File \"/opt/conda/lib/python3.7/site-packages/urllib3/connectionpool.py\", line 677, in urlopen\n",
      "    chunked=chunked,\n",
      "  File \"/opt/conda/lib/python3.7/site-packages/urllib3/connectionpool.py\", line 392, in _make_request\n",
      "    conn.request(method, url, **httplib_request_kw)\n",
      "  File \"/opt/conda/lib/python3.7/http/client.py\", line 1252, in request\n",
      "    self._send_request(method, url, body, headers, encode_chunked)\n",
      "  File \"/opt/conda/lib/python3.7/http/client.py\", line 1298, in _send_request\n",
      "    self.endheaders(body, encode_chunked=encode_chunked)\n",
      "  File \"/opt/conda/lib/python3.7/http/client.py\", line 1247, in endheaders\n",
      "    self._send_output(message_body, encode_chunked=encode_chunked)\n",
      "  File \"/opt/conda/lib/python3.7/http/client.py\", line 1026, in _send_output\n",
      "    self.send(msg)\n",
      "  File \"/opt/conda/lib/python3.7/http/client.py\", line 966, in send\n",
      "    self.connect()\n",
      "  File \"/opt/conda/lib/python3.7/site-packages/urllib3/connection.py\", line 187, in connect\n",
      "    conn = self._new_conn()\n",
      "  File \"/opt/conda/lib/python3.7/site-packages/urllib3/connection.py\", line 172, in _new_conn\n",
      "    self, \"Failed to establish a new connection: %s\" % e\n",
      "urllib3.exceptions.NewConnectionError: <urllib3.connection.HTTPConnection object at 0x7f0bc68f8610>: Failed to establish a new connection: [Errno -2] Name or service not known\n",
      "\n",
      "During handling of the above exception, another exception occurred:\n",
      "\n",
      "Traceback (most recent call last):\n",
      "  File \"/opt/conda/lib/python3.7/site-packages/requests/adapters.py\", line 449, in send\n",
      "    timeout=timeout\n",
      "  File \"/opt/conda/lib/python3.7/site-packages/urllib3/connectionpool.py\", line 725, in urlopen\n",
      "    method, url, error=e, _pool=self, _stacktrace=sys.exc_info()[2]\n",
      "  File \"/opt/conda/lib/python3.7/site-packages/urllib3/util/retry.py\", line 439, in increment\n",
      "    raise MaxRetryError(_pool, url, error or ResponseError(cause))\n",
      "urllib3.exceptions.MaxRetryError: HTTPConnectionPool(host='sports.news.naver.com', port=80): Max retries exceeded with url: /esports/news/read.nhn?oid=020&aid=0003049314 (Caused by NewConnectionError('<urllib3.connection.HTTPConnection object at 0x7f0bc68f8610>: Failed to establish a new connection: [Errno -2] Name or service not known'))\n",
      "\n",
      "During handling of the above exception, another exception occurred:\n",
      "\n",
      "Traceback (most recent call last):\n",
      "  File \"/home/agilesoda/workspace/advice1/KoreaNewsCrawler/korea_news_crawler/articlecrawler.py\", line 85, in get_url_data\n",
      "    return requests.get(url)\n",
      "  File \"/opt/conda/lib/python3.7/site-packages/requests/api.py\", line 76, in get\n",
      "    return request('get', url, params=params, **kwargs)\n",
      "  File \"/opt/conda/lib/python3.7/site-packages/requests/api.py\", line 61, in request\n",
      "    return session.request(method=method, url=url, **kwargs)\n",
      "  File \"/opt/conda/lib/python3.7/site-packages/requests/sessions.py\", line 530, in request\n",
      "    resp = self.send(prep, **send_kwargs)\n",
      "  File \"/opt/conda/lib/python3.7/site-packages/requests/sessions.py\", line 665, in send\n",
      "    history = [resp for resp in gen]\n",
      "  File \"/opt/conda/lib/python3.7/site-packages/requests/sessions.py\", line 665, in <listcomp>\n",
      "    history = [resp for resp in gen]\n",
      "  File \"/opt/conda/lib/python3.7/site-packages/requests/sessions.py\", line 245, in resolve_redirects\n",
      "    **adapter_kwargs\n",
      "  File \"/opt/conda/lib/python3.7/site-packages/requests/sessions.py\", line 643, in send\n",
      "    r = adapter.send(request, **kwargs)\n",
      "  File \"/opt/conda/lib/python3.7/site-packages/requests/adapters.py\", line 516, in send\n",
      "    raise ConnectionError(e, request=request)\n",
      "requests.exceptions.ConnectionError: HTTPConnectionPool(host='sports.news.naver.com', port=80): Max retries exceeded with url: /esports/news/read.nhn?oid=020&aid=0003049314 (Caused by NewConnectionError('<urllib3.connection.HTTPConnection object at 0x7f0bc68f8610>: Failed to establish a new connection: [Errno -2] Name or service not known'))\n",
      "\n",
      "During handling of the above exception, another exception occurred:\n",
      "\n",
      "Traceback (most recent call last):\n",
      "  File \"/opt/conda/lib/python3.7/multiprocessing/process.py\", line 297, in _bootstrap\n",
      "    self.run()\n",
      "  File \"/opt/conda/lib/python3.7/multiprocessing/process.py\", line 99, in run\n",
      "    self._target(*self._args, **self._kwargs)\n",
      "  File \"/home/agilesoda/workspace/advice1/KoreaNewsCrawler/korea_news_crawler/articlecrawler.py\", line 130, in crawling\n",
      "    request_content = self.get_url_data(content_url)\n",
      "  File \"/home/agilesoda/workspace/advice1/KoreaNewsCrawler/korea_news_crawler/articlecrawler.py\", line 86, in get_url_data\n",
      "    except requests.exceptions:\n",
      "TypeError: catching classes that do not inherit from BaseException is not allowed\n"
     ]
    }
   ],
   "source": [
    "from korea_news_crawler.articlecrawler import ArticleCrawler\n",
    "\n",
    "Crawler = ArticleCrawler()  \n",
    "Crawler.set_category(\"정치\", \"IT과학\", \"economy\")  \n",
    "Crawler.set_date_range(2017, 1, 2017, 2)  \n",
    "Crawler.start()"
   ]
  }
 ],
 "metadata": {
  "kernelspec": {
   "display_name": "Python 3",
   "language": "python",
   "name": "python3"
  },
  "language_info": {
   "codemirror_mode": {
    "name": "ipython",
    "version": 3
   },
   "file_extension": ".py",
   "mimetype": "text/x-python",
   "name": "python",
   "nbconvert_exporter": "python",
   "pygments_lexer": "ipython3",
   "version": "3.7.6"
  }
 },
 "nbformat": 4,
 "nbformat_minor": 4
}
